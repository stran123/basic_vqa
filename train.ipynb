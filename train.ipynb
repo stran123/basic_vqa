{
  "nbformat": 4,
  "nbformat_minor": 0,
  "metadata": {
    "colab": {
      "name": "train.ipynb",
      "provenance": [],
      "collapsed_sections": [
        "2IxvmoHCXKu9"
      ]
    },
    "kernelspec": {
      "name": "python3",
      "display_name": "Python 3"
    },
    "language_info": {
      "name": "python"
    },
    "widgets": {
      "application/vnd.jupyter.widget-state+json": {
        "0d07d3eb5f3345e5a17b578a84330dc2": {
          "model_module": "@jupyter-widgets/controls",
          "model_name": "HBoxModel",
          "state": {
            "_view_name": "HBoxView",
            "_dom_classes": [],
            "_model_name": "HBoxModel",
            "_view_module": "@jupyter-widgets/controls",
            "_model_module_version": "1.5.0",
            "_view_count": null,
            "_view_module_version": "1.5.0",
            "box_style": "",
            "layout": "IPY_MODEL_dad1e1f3f21a4f9a862da69c16be0f70",
            "_model_module": "@jupyter-widgets/controls",
            "children": [
              "IPY_MODEL_88728c69034a4fab873331a057d921cd",
              "IPY_MODEL_2b568106c80b4ecfb29498c3259e1b1e"
            ]
          }
        },
        "dad1e1f3f21a4f9a862da69c16be0f70": {
          "model_module": "@jupyter-widgets/base",
          "model_name": "LayoutModel",
          "state": {
            "_view_name": "LayoutView",
            "grid_template_rows": null,
            "right": null,
            "justify_content": null,
            "_view_module": "@jupyter-widgets/base",
            "overflow": null,
            "_model_module_version": "1.2.0",
            "_view_count": null,
            "flex_flow": null,
            "width": null,
            "min_width": null,
            "border": null,
            "align_items": null,
            "bottom": null,
            "_model_module": "@jupyter-widgets/base",
            "top": null,
            "grid_column": null,
            "overflow_y": null,
            "overflow_x": null,
            "grid_auto_flow": null,
            "grid_area": null,
            "grid_template_columns": null,
            "flex": null,
            "_model_name": "LayoutModel",
            "justify_items": null,
            "grid_row": null,
            "max_height": null,
            "align_content": null,
            "visibility": null,
            "align_self": null,
            "height": null,
            "min_height": null,
            "padding": null,
            "grid_auto_rows": null,
            "grid_gap": null,
            "max_width": null,
            "order": null,
            "_view_module_version": "1.2.0",
            "grid_template_areas": null,
            "object_position": null,
            "object_fit": null,
            "grid_auto_columns": null,
            "margin": null,
            "display": null,
            "left": null
          }
        },
        "88728c69034a4fab873331a057d921cd": {
          "model_module": "@jupyter-widgets/controls",
          "model_name": "FloatProgressModel",
          "state": {
            "_view_name": "ProgressView",
            "style": "IPY_MODEL_6655ffa775874ef195bffda564c58545",
            "_dom_classes": [],
            "description": "  0%",
            "_model_name": "FloatProgressModel",
            "bar_style": "danger",
            "max": 1,
            "_view_module": "@jupyter-widgets/controls",
            "_model_module_version": "1.5.0",
            "value": 0,
            "_view_count": null,
            "_view_module_version": "1.5.0",
            "orientation": "horizontal",
            "min": 0,
            "description_tooltip": null,
            "_model_module": "@jupyter-widgets/controls",
            "layout": "IPY_MODEL_e83e3f6737a144aaa146da556e5a5dff"
          }
        },
        "2b568106c80b4ecfb29498c3259e1b1e": {
          "model_module": "@jupyter-widgets/controls",
          "model_name": "HTMLModel",
          "state": {
            "_view_name": "HTMLView",
            "style": "IPY_MODEL_cc049f2d633946ddb45f6285e9440086",
            "_dom_classes": [],
            "description": "",
            "_model_name": "HTMLModel",
            "placeholder": "​",
            "_view_module": "@jupyter-widgets/controls",
            "_model_module_version": "1.5.0",
            "value": " 0/1 [00:07&lt;?, ?it/s]",
            "_view_count": null,
            "_view_module_version": "1.5.0",
            "description_tooltip": null,
            "_model_module": "@jupyter-widgets/controls",
            "layout": "IPY_MODEL_137c57352f6047c589a3bf9f8609fa05"
          }
        },
        "6655ffa775874ef195bffda564c58545": {
          "model_module": "@jupyter-widgets/controls",
          "model_name": "ProgressStyleModel",
          "state": {
            "_view_name": "StyleView",
            "_model_name": "ProgressStyleModel",
            "description_width": "initial",
            "_view_module": "@jupyter-widgets/base",
            "_model_module_version": "1.5.0",
            "_view_count": null,
            "_view_module_version": "1.2.0",
            "bar_color": null,
            "_model_module": "@jupyter-widgets/controls"
          }
        },
        "e83e3f6737a144aaa146da556e5a5dff": {
          "model_module": "@jupyter-widgets/base",
          "model_name": "LayoutModel",
          "state": {
            "_view_name": "LayoutView",
            "grid_template_rows": null,
            "right": null,
            "justify_content": null,
            "_view_module": "@jupyter-widgets/base",
            "overflow": null,
            "_model_module_version": "1.2.0",
            "_view_count": null,
            "flex_flow": null,
            "width": null,
            "min_width": null,
            "border": null,
            "align_items": null,
            "bottom": null,
            "_model_module": "@jupyter-widgets/base",
            "top": null,
            "grid_column": null,
            "overflow_y": null,
            "overflow_x": null,
            "grid_auto_flow": null,
            "grid_area": null,
            "grid_template_columns": null,
            "flex": null,
            "_model_name": "LayoutModel",
            "justify_items": null,
            "grid_row": null,
            "max_height": null,
            "align_content": null,
            "visibility": null,
            "align_self": null,
            "height": null,
            "min_height": null,
            "padding": null,
            "grid_auto_rows": null,
            "grid_gap": null,
            "max_width": null,
            "order": null,
            "_view_module_version": "1.2.0",
            "grid_template_areas": null,
            "object_position": null,
            "object_fit": null,
            "grid_auto_columns": null,
            "margin": null,
            "display": null,
            "left": null
          }
        },
        "cc049f2d633946ddb45f6285e9440086": {
          "model_module": "@jupyter-widgets/controls",
          "model_name": "DescriptionStyleModel",
          "state": {
            "_view_name": "StyleView",
            "_model_name": "DescriptionStyleModel",
            "description_width": "",
            "_view_module": "@jupyter-widgets/base",
            "_model_module_version": "1.5.0",
            "_view_count": null,
            "_view_module_version": "1.2.0",
            "_model_module": "@jupyter-widgets/controls"
          }
        },
        "137c57352f6047c589a3bf9f8609fa05": {
          "model_module": "@jupyter-widgets/base",
          "model_name": "LayoutModel",
          "state": {
            "_view_name": "LayoutView",
            "grid_template_rows": null,
            "right": null,
            "justify_content": null,
            "_view_module": "@jupyter-widgets/base",
            "overflow": null,
            "_model_module_version": "1.2.0",
            "_view_count": null,
            "flex_flow": null,
            "width": null,
            "min_width": null,
            "border": null,
            "align_items": null,
            "bottom": null,
            "_model_module": "@jupyter-widgets/base",
            "top": null,
            "grid_column": null,
            "overflow_y": null,
            "overflow_x": null,
            "grid_auto_flow": null,
            "grid_area": null,
            "grid_template_columns": null,
            "flex": null,
            "_model_name": "LayoutModel",
            "justify_items": null,
            "grid_row": null,
            "max_height": null,
            "align_content": null,
            "visibility": null,
            "align_self": null,
            "height": null,
            "min_height": null,
            "padding": null,
            "grid_auto_rows": null,
            "grid_gap": null,
            "max_width": null,
            "order": null,
            "_view_module_version": "1.2.0",
            "grid_template_areas": null,
            "object_position": null,
            "object_fit": null,
            "grid_auto_columns": null,
            "margin": null,
            "display": null,
            "left": null
          }
        },
        "19578c2bbc0a4c34832e08fd22ec11e7": {
          "model_module": "@jupyter-widgets/controls",
          "model_name": "HBoxModel",
          "state": {
            "_view_name": "HBoxView",
            "_dom_classes": [],
            "_model_name": "HBoxModel",
            "_view_module": "@jupyter-widgets/controls",
            "_model_module_version": "1.5.0",
            "_view_count": null,
            "_view_module_version": "1.5.0",
            "box_style": "",
            "layout": "IPY_MODEL_82f6114345fe4558912fb3aa4d1fdc10",
            "_model_module": "@jupyter-widgets/controls",
            "children": [
              "IPY_MODEL_92570079d86544589a666b965064448d",
              "IPY_MODEL_ed1615777f3f441eaa59b0c0d30c234c"
            ]
          }
        },
        "82f6114345fe4558912fb3aa4d1fdc10": {
          "model_module": "@jupyter-widgets/base",
          "model_name": "LayoutModel",
          "state": {
            "_view_name": "LayoutView",
            "grid_template_rows": null,
            "right": null,
            "justify_content": null,
            "_view_module": "@jupyter-widgets/base",
            "overflow": null,
            "_model_module_version": "1.2.0",
            "_view_count": null,
            "flex_flow": null,
            "width": null,
            "min_width": null,
            "border": null,
            "align_items": null,
            "bottom": null,
            "_model_module": "@jupyter-widgets/base",
            "top": null,
            "grid_column": null,
            "overflow_y": null,
            "overflow_x": null,
            "grid_auto_flow": null,
            "grid_area": null,
            "grid_template_columns": null,
            "flex": null,
            "_model_name": "LayoutModel",
            "justify_items": null,
            "grid_row": null,
            "max_height": null,
            "align_content": null,
            "visibility": null,
            "align_self": null,
            "height": null,
            "min_height": null,
            "padding": null,
            "grid_auto_rows": null,
            "grid_gap": null,
            "max_width": null,
            "order": null,
            "_view_module_version": "1.2.0",
            "grid_template_areas": null,
            "object_position": null,
            "object_fit": null,
            "grid_auto_columns": null,
            "margin": null,
            "display": null,
            "left": null
          }
        },
        "92570079d86544589a666b965064448d": {
          "model_module": "@jupyter-widgets/controls",
          "model_name": "FloatProgressModel",
          "state": {
            "_view_name": "ProgressView",
            "style": "IPY_MODEL_8a8e800ccda7474b9526c019a70cbe69",
            "_dom_classes": [],
            "description": "  0%",
            "_model_name": "FloatProgressModel",
            "bar_style": "danger",
            "max": 469,
            "_view_module": "@jupyter-widgets/controls",
            "_model_module_version": "1.5.0",
            "value": 0,
            "_view_count": null,
            "_view_module_version": "1.5.0",
            "orientation": "horizontal",
            "min": 0,
            "description_tooltip": null,
            "_model_module": "@jupyter-widgets/controls",
            "layout": "IPY_MODEL_bdf05fe752e9477584861b2ddf561c5e"
          }
        },
        "ed1615777f3f441eaa59b0c0d30c234c": {
          "model_module": "@jupyter-widgets/controls",
          "model_name": "HTMLModel",
          "state": {
            "_view_name": "HTMLView",
            "style": "IPY_MODEL_76720b0d714e40c3baa11ea8a849911b",
            "_dom_classes": [],
            "description": "",
            "_model_name": "HTMLModel",
            "placeholder": "​",
            "_view_module": "@jupyter-widgets/controls",
            "_model_module_version": "1.5.0",
            "value": " 0/469 [00:05&lt;?, ?it/s]",
            "_view_count": null,
            "_view_module_version": "1.5.0",
            "description_tooltip": null,
            "_model_module": "@jupyter-widgets/controls",
            "layout": "IPY_MODEL_47cdb02af5244c458484658d1792b9e0"
          }
        },
        "8a8e800ccda7474b9526c019a70cbe69": {
          "model_module": "@jupyter-widgets/controls",
          "model_name": "ProgressStyleModel",
          "state": {
            "_view_name": "StyleView",
            "_model_name": "ProgressStyleModel",
            "description_width": "initial",
            "_view_module": "@jupyter-widgets/base",
            "_model_module_version": "1.5.0",
            "_view_count": null,
            "_view_module_version": "1.2.0",
            "bar_color": null,
            "_model_module": "@jupyter-widgets/controls"
          }
        },
        "bdf05fe752e9477584861b2ddf561c5e": {
          "model_module": "@jupyter-widgets/base",
          "model_name": "LayoutModel",
          "state": {
            "_view_name": "LayoutView",
            "grid_template_rows": null,
            "right": null,
            "justify_content": null,
            "_view_module": "@jupyter-widgets/base",
            "overflow": null,
            "_model_module_version": "1.2.0",
            "_view_count": null,
            "flex_flow": null,
            "width": null,
            "min_width": null,
            "border": null,
            "align_items": null,
            "bottom": null,
            "_model_module": "@jupyter-widgets/base",
            "top": null,
            "grid_column": null,
            "overflow_y": null,
            "overflow_x": null,
            "grid_auto_flow": null,
            "grid_area": null,
            "grid_template_columns": null,
            "flex": null,
            "_model_name": "LayoutModel",
            "justify_items": null,
            "grid_row": null,
            "max_height": null,
            "align_content": null,
            "visibility": null,
            "align_self": null,
            "height": null,
            "min_height": null,
            "padding": null,
            "grid_auto_rows": null,
            "grid_gap": null,
            "max_width": null,
            "order": null,
            "_view_module_version": "1.2.0",
            "grid_template_areas": null,
            "object_position": null,
            "object_fit": null,
            "grid_auto_columns": null,
            "margin": null,
            "display": null,
            "left": null
          }
        },
        "76720b0d714e40c3baa11ea8a849911b": {
          "model_module": "@jupyter-widgets/controls",
          "model_name": "DescriptionStyleModel",
          "state": {
            "_view_name": "StyleView",
            "_model_name": "DescriptionStyleModel",
            "description_width": "",
            "_view_module": "@jupyter-widgets/base",
            "_model_module_version": "1.5.0",
            "_view_count": null,
            "_view_module_version": "1.2.0",
            "_model_module": "@jupyter-widgets/controls"
          }
        },
        "47cdb02af5244c458484658d1792b9e0": {
          "model_module": "@jupyter-widgets/base",
          "model_name": "LayoutModel",
          "state": {
            "_view_name": "LayoutView",
            "grid_template_rows": null,
            "right": null,
            "justify_content": null,
            "_view_module": "@jupyter-widgets/base",
            "overflow": null,
            "_model_module_version": "1.2.0",
            "_view_count": null,
            "flex_flow": null,
            "width": null,
            "min_width": null,
            "border": null,
            "align_items": null,
            "bottom": null,
            "_model_module": "@jupyter-widgets/base",
            "top": null,
            "grid_column": null,
            "overflow_y": null,
            "overflow_x": null,
            "grid_auto_flow": null,
            "grid_area": null,
            "grid_template_columns": null,
            "flex": null,
            "_model_name": "LayoutModel",
            "justify_items": null,
            "grid_row": null,
            "max_height": null,
            "align_content": null,
            "visibility": null,
            "align_self": null,
            "height": null,
            "min_height": null,
            "padding": null,
            "grid_auto_rows": null,
            "grid_gap": null,
            "max_width": null,
            "order": null,
            "_view_module_version": "1.2.0",
            "grid_template_areas": null,
            "object_position": null,
            "object_fit": null,
            "grid_auto_columns": null,
            "margin": null,
            "display": null,
            "left": null
          }
        },
        "3afccd4da40447fca6d3540ddb7f3580": {
          "model_module": "@jupyter-widgets/controls",
          "model_name": "HBoxModel",
          "state": {
            "_view_name": "HBoxView",
            "_dom_classes": [],
            "_model_name": "HBoxModel",
            "_view_module": "@jupyter-widgets/controls",
            "_model_module_version": "1.5.0",
            "_view_count": null,
            "_view_module_version": "1.5.0",
            "box_style": "",
            "layout": "IPY_MODEL_6912119b373c4178af219487e81bc5ab",
            "_model_module": "@jupyter-widgets/controls",
            "children": [
              "IPY_MODEL_c51e823f0dba4e90bcf1d8c5f8726740",
              "IPY_MODEL_416b13d44664437393b0a8df15abbc13"
            ]
          }
        },
        "6912119b373c4178af219487e81bc5ab": {
          "model_module": "@jupyter-widgets/base",
          "model_name": "LayoutModel",
          "state": {
            "_view_name": "LayoutView",
            "grid_template_rows": null,
            "right": null,
            "justify_content": null,
            "_view_module": "@jupyter-widgets/base",
            "overflow": null,
            "_model_module_version": "1.2.0",
            "_view_count": null,
            "flex_flow": null,
            "width": null,
            "min_width": null,
            "border": null,
            "align_items": null,
            "bottom": null,
            "_model_module": "@jupyter-widgets/base",
            "top": null,
            "grid_column": null,
            "overflow_y": null,
            "overflow_x": null,
            "grid_auto_flow": null,
            "grid_area": null,
            "grid_template_columns": null,
            "flex": null,
            "_model_name": "LayoutModel",
            "justify_items": null,
            "grid_row": null,
            "max_height": null,
            "align_content": null,
            "visibility": null,
            "align_self": null,
            "height": null,
            "min_height": null,
            "padding": null,
            "grid_auto_rows": null,
            "grid_gap": null,
            "max_width": null,
            "order": null,
            "_view_module_version": "1.2.0",
            "grid_template_areas": null,
            "object_position": null,
            "object_fit": null,
            "grid_auto_columns": null,
            "margin": null,
            "display": null,
            "left": null
          }
        },
        "c51e823f0dba4e90bcf1d8c5f8726740": {
          "model_module": "@jupyter-widgets/controls",
          "model_name": "FloatProgressModel",
          "state": {
            "_view_name": "ProgressView",
            "style": "IPY_MODEL_fa588b3cf0f541b28a7bf1738177304f",
            "_dom_classes": [],
            "description": "  0%",
            "_model_name": "FloatProgressModel",
            "bar_style": "danger",
            "max": 469,
            "_view_module": "@jupyter-widgets/controls",
            "_model_module_version": "1.5.0",
            "value": 0,
            "_view_count": null,
            "_view_module_version": "1.5.0",
            "orientation": "horizontal",
            "min": 0,
            "description_tooltip": null,
            "_model_module": "@jupyter-widgets/controls",
            "layout": "IPY_MODEL_089e3ce088ec45f993ce907db27037cc"
          }
        },
        "416b13d44664437393b0a8df15abbc13": {
          "model_module": "@jupyter-widgets/controls",
          "model_name": "HTMLModel",
          "state": {
            "_view_name": "HTMLView",
            "style": "IPY_MODEL_e39777ffda2c427abde8aae4f57a0b84",
            "_dom_classes": [],
            "description": "",
            "_model_name": "HTMLModel",
            "placeholder": "​",
            "_view_module": "@jupyter-widgets/controls",
            "_model_module_version": "1.5.0",
            "value": " 0/469 [00:02&lt;?, ?it/s]",
            "_view_count": null,
            "_view_module_version": "1.5.0",
            "description_tooltip": null,
            "_model_module": "@jupyter-widgets/controls",
            "layout": "IPY_MODEL_68a62b54ce1847e09b5d7fd5b3d7efc1"
          }
        },
        "fa588b3cf0f541b28a7bf1738177304f": {
          "model_module": "@jupyter-widgets/controls",
          "model_name": "ProgressStyleModel",
          "state": {
            "_view_name": "StyleView",
            "_model_name": "ProgressStyleModel",
            "description_width": "initial",
            "_view_module": "@jupyter-widgets/base",
            "_model_module_version": "1.5.0",
            "_view_count": null,
            "_view_module_version": "1.2.0",
            "bar_color": null,
            "_model_module": "@jupyter-widgets/controls"
          }
        },
        "089e3ce088ec45f993ce907db27037cc": {
          "model_module": "@jupyter-widgets/base",
          "model_name": "LayoutModel",
          "state": {
            "_view_name": "LayoutView",
            "grid_template_rows": null,
            "right": null,
            "justify_content": null,
            "_view_module": "@jupyter-widgets/base",
            "overflow": null,
            "_model_module_version": "1.2.0",
            "_view_count": null,
            "flex_flow": null,
            "width": null,
            "min_width": null,
            "border": null,
            "align_items": null,
            "bottom": null,
            "_model_module": "@jupyter-widgets/base",
            "top": null,
            "grid_column": null,
            "overflow_y": null,
            "overflow_x": null,
            "grid_auto_flow": null,
            "grid_area": null,
            "grid_template_columns": null,
            "flex": null,
            "_model_name": "LayoutModel",
            "justify_items": null,
            "grid_row": null,
            "max_height": null,
            "align_content": null,
            "visibility": null,
            "align_self": null,
            "height": null,
            "min_height": null,
            "padding": null,
            "grid_auto_rows": null,
            "grid_gap": null,
            "max_width": null,
            "order": null,
            "_view_module_version": "1.2.0",
            "grid_template_areas": null,
            "object_position": null,
            "object_fit": null,
            "grid_auto_columns": null,
            "margin": null,
            "display": null,
            "left": null
          }
        },
        "e39777ffda2c427abde8aae4f57a0b84": {
          "model_module": "@jupyter-widgets/controls",
          "model_name": "DescriptionStyleModel",
          "state": {
            "_view_name": "StyleView",
            "_model_name": "DescriptionStyleModel",
            "description_width": "",
            "_view_module": "@jupyter-widgets/base",
            "_model_module_version": "1.5.0",
            "_view_count": null,
            "_view_module_version": "1.2.0",
            "_model_module": "@jupyter-widgets/controls"
          }
        },
        "68a62b54ce1847e09b5d7fd5b3d7efc1": {
          "model_module": "@jupyter-widgets/base",
          "model_name": "LayoutModel",
          "state": {
            "_view_name": "LayoutView",
            "grid_template_rows": null,
            "right": null,
            "justify_content": null,
            "_view_module": "@jupyter-widgets/base",
            "overflow": null,
            "_model_module_version": "1.2.0",
            "_view_count": null,
            "flex_flow": null,
            "width": null,
            "min_width": null,
            "border": null,
            "align_items": null,
            "bottom": null,
            "_model_module": "@jupyter-widgets/base",
            "top": null,
            "grid_column": null,
            "overflow_y": null,
            "overflow_x": null,
            "grid_auto_flow": null,
            "grid_area": null,
            "grid_template_columns": null,
            "flex": null,
            "_model_name": "LayoutModel",
            "justify_items": null,
            "grid_row": null,
            "max_height": null,
            "align_content": null,
            "visibility": null,
            "align_self": null,
            "height": null,
            "min_height": null,
            "padding": null,
            "grid_auto_rows": null,
            "grid_gap": null,
            "max_width": null,
            "order": null,
            "_view_module_version": "1.2.0",
            "grid_template_areas": null,
            "object_position": null,
            "object_fit": null,
            "grid_auto_columns": null,
            "margin": null,
            "display": null,
            "left": null
          }
        }
      }
    },
    "accelerator": "GPU"
  },
  "cells": [
    {
      "cell_type": "markdown",
      "metadata": {
        "id": "2IxvmoHCXKu9"
      },
      "source": [
        "# Get Data"
      ]
    },
    {
      "cell_type": "code",
      "metadata": {
        "id": "Ho5VmGlTKqp5"
      },
      "source": [
        "import os\n",
        "\n",
        "if not os.path.exists(\"./datasets\"):\n",
        "  !mkdir -p \"/content/datasets/Annotations\"\n",
        "  !mkdir -p \"/content/datasets/Questions\"\n",
        "  !mkdir -p \"/content/datasets/Images/test\"\n",
        "  !mkdir -p \"/content/datasets/Images/train\"\n",
        "  !mkdir -p \"/content/datasets/Images/val\"\n",
        "\n",
        "  !wget https://s3.amazonaws.com/cvmlp/vqa/abstract_v002/vqa/Annotations_Train_abstract_v002.zip\n",
        "  !wget https://s3.amazonaws.com/cvmlp/vqa/abstract_v002/vqa/Annotations_Val_abstract_v002.zip\n",
        "  !unzip Annotations_Train_abstract_v002.zip -d ./datasets/Annotations\n",
        "  !unzip Annotations_Val_abstract_v002.zip -d ./datasets/Annotations\n",
        "\n",
        "  !wget https://s3.amazonaws.com/cvmlp/vqa/abstract_v002/vqa/Questions_Train_abstract_v002.zip\n",
        "  !wget https://s3.amazonaws.com/cvmlp/vqa/abstract_v002/vqa/Questions_Val_abstract_v002.zip\n",
        "  !wget https://s3.amazonaws.com/cvmlp/vqa/abstract_v002/vqa/Questions_Test_abstract_v002.zip\n",
        "  !unzip Questions_Train_abstract_v002.zip -d ./datasets/Questions\n",
        "  !unzip Questions_Val_abstract_v002.zip -d ./datasets/Questions\n",
        "  !unzip Questions_Test_abstract_v002.zip -d ./datasets/Questions\n",
        "\n",
        "  !wget https://s3.amazonaws.com/cvmlp/vqa/abstract_v002/scene_img/scene_img_abstract_v002_train2015.zip\n",
        "  !wget https://s3.amazonaws.com/cvmlp/vqa/abstract_v002/scene_img/scene_img_abstract_v002_val2015.zip\n",
        "  !wget https://s3.amazonaws.com/cvmlp/vqa/abstract_v002/scene_img/scene_img_abstract_v002_test2015.zip\n",
        "  !unzip scene_img_abstract_v002_train2015.zip -d ./datasets/Images/train\n",
        "  !unzip scene_img_abstract_v002_val2015.zip -d ./datasets/Images/val\n",
        "  !unzip scene_img_abstract_v002_test2015.zip -d ./datasets/Images/test"
      ],
      "execution_count": 7,
      "outputs": []
    },
    {
      "cell_type": "markdown",
      "metadata": {
        "id": "x8SMrykXXR_l"
      },
      "source": [
        "# Preprocess Data"
      ]
    },
    {
      "cell_type": "code",
      "metadata": {
        "colab": {
          "base_uri": "https://localhost:8080/"
        },
        "id": "KtujTvASJgzA",
        "outputId": "40ba5557-0a4b-4abe-db42-746aafe3a1b5"
      },
      "source": [
        "import argparse\n",
        "import numpy as np\n",
        "import torch\n",
        "import torch.nn as nn\n",
        "import torch.optim as optim\n",
        "from torch.optim import lr_scheduler\n",
        "from tqdm.notebook import tqdm\n",
        "\n",
        "if not os.path.exists(\"./data_loader.py\"):\n",
        "  !wget https://raw.githubusercontent.com/stran123/basic_vqa/master/data_loader.py\n",
        "\n",
        "if not os.path.exists(\"./models.py\"):\n",
        "  !wget https://raw.githubusercontent.com/stran123/basic_vqa/master/models.py\n",
        "\n",
        "if not os.path.exists(\"./utils\"):\n",
        "  !mkdir -p \"/content/utils\"\n",
        "  !wget https://raw.githubusercontent.com/stran123/basic_vqa/master/utils/text_helper.py -O ./utils/text_helper.py\n",
        "  !wget https://raw.githubusercontent.com/stran123/basic_vqa/master/utils/resize_images.py -O ./utils/resize_images.py\n",
        "  !wget https://raw.githubusercontent.com/stran123/basic_vqa/master/utils/make_vacabs_for_questions_answers.py -O ./utils/make_vacabs_for_questions_answers.py\n",
        "  !wget https://raw.githubusercontent.com/stran123/basic_vqa/master/utils/build_vqa_inputs.py -O ./utils/build_vqa_inputs.py\n",
        "\n",
        "from data_loader import get_loader\n",
        "from models import VqaModel"
      ],
      "execution_count": 286,
      "outputs": [
        {
          "output_type": "stream",
          "text": [
            "--2021-05-07 07:01:30--  https://raw.githubusercontent.com/stran123/basic_vqa/master/models.py\n",
            "Resolving raw.githubusercontent.com (raw.githubusercontent.com)... 185.199.108.133, 185.199.109.133, 185.199.110.133, ...\n",
            "Connecting to raw.githubusercontent.com (raw.githubusercontent.com)|185.199.108.133|:443... connected.\n",
            "HTTP request sent, awaiting response... 200 OK\n",
            "Length: 8201 (8.0K) [text/plain]\n",
            "Saving to: ‘models.py’\n",
            "\n",
            "\rmodels.py             0%[                    ]       0  --.-KB/s               \rmodels.py           100%[===================>]   8.01K  --.-KB/s    in 0s      \n",
            "\n",
            "2021-05-07 07:01:31 (114 MB/s) - ‘models.py’ saved [8201/8201]\n",
            "\n"
          ],
          "name": "stdout"
        }
      ]
    },
    {
      "cell_type": "code",
      "metadata": {
        "colab": {
          "base_uri": "https://localhost:8080/"
        },
        "id": "kvto9FCIVuEZ",
        "outputId": "041fc8ba-324e-4360-ee8f-b70eb09150f7"
      },
      "source": [
        "os.chdir(\"./utils\")\n",
        "if not os.path.exists(\"../datasets/Resized_Images\"):\n",
        "  !python resize_images.py --input_dir='../datasets/Images' --output_dir='../datasets/Resized_Images'  \n",
        "  !python make_vacabs_for_questions_answers.py --input_dir='../datasets'\n",
        "  !python build_vqa_inputs.py --input_dir='../datasets' --output_dir='../datasets'\n",
        "os.chdir(\"../datasets/Resized_Images\")\n",
        "if os.path.exists(\"./test\") and not os.path.exists(\"./test2015\"):\n",
        "  !mv test test2015\n",
        "if os.path.exists(\"./train\") and not os.path.exists(\"./train2015\"):\n",
        "  !mv train train2015\n",
        "if os.path.exists(\"./val\") and not os.path.exists(\"./val2015\"):\n",
        "  !mv val val2015\n",
        "os.chdir(\"../..\")\n",
        "!rm -rf *.zip"
      ],
      "execution_count": 9,
      "outputs": [
        {
          "output_type": "stream",
          "text": [
            "Traceback (most recent call last):\n",
            "  File \"/usr/local/lib/python3.7/dist-packages/PIL/ImageFile.py\", line 496, in _save\n",
            "    fh = fp.fileno()\n",
            "AttributeError: '_idat' object has no attribute 'fileno'\n",
            "\n",
            "During handling of the above exception, another exception occurred:\n",
            "\n",
            "Traceback (most recent call last):\n",
            "  File \"resize_images.py\", line 56, in <module>\n",
            "    main(args)\n",
            "  File \"resize_images.py\", line 38, in main\n",
            "    resize_images(input_dir, output_dir, image_size)\n",
            "  File \"resize_images.py\", line 25, in resize_images\n",
            "    img.save(os.path.join(output_dir+'/'+idir.name, image), img.format)\n",
            "  File \"/usr/local/lib/python3.7/dist-packages/PIL/Image.py\", line 2134, in save\n",
            "    save_handler(self, fp, filename)\n",
            "  File \"/usr/local/lib/python3.7/dist-packages/PIL/PngImagePlugin.py\", line 1291, in _save\n",
            "    ImageFile._save(im, _idat(fp, chunk), [(\"zip\", (0, 0) + im.size, 0, rawmode)])\n",
            "  File \"/usr/local/lib/python3.7/dist-packages/PIL/ImageFile.py\", line 510, in _save\n",
            "    l, s, d = e.encode(bufsize)\n",
            "KeyboardInterrupt\n",
            "Traceback (most recent call last):\n",
            "  File \"make_vacabs_for_questions_answers.py\", line 79, in <module>\n",
            "    main(args)\n",
            "  File \"make_vacabs_for_questions_answers.py\", line 68, in main\n",
            "    make_vocab_questions(input_dir+'/Questions')\n",
            "  File \"make_vacabs_for_questions_answers.py\", line 20, in make_vocab_questions\n",
            "    words = SENTENCE_SPLIT_REGEX.split(question['question'].lower())\n",
            "KeyboardInterrupt\n",
            "^C\n",
            "building vqa train2015 dataset\n",
            "processing 10000 / 60000\n",
            "processing 20000 / 60000\n",
            "processing 30000 / 60000\n",
            "processing 40000 / 60000\n",
            "processing 50000 / 60000\n",
            "processing 60000 / 60000\n",
            "total 383 out of 60000 answers are <unk>\n",
            "building vqa val2015 dataset\n",
            "Traceback (most recent call last):\n",
            "  File \"build_vqa_inputs.py\", line 96, in <module>\n",
            "    main(args)\n",
            "  File \"build_vqa_inputs.py\", line 73, in main\n",
            "    valid = vqa_processing(image_dir, annotation_file, question_file, valid_answer_set, 'val2015')\n",
            "  File \"build_vqa_inputs.py\", line 20, in vqa_processing\n",
            "    annotations = json.load(f)['annotations']\n",
            "  File \"/usr/lib/python3.7/json/__init__.py\", line 293, in load\n",
            "    return loads(fp.read(),\n",
            "  File \"/usr/lib/python3.7/codecs.py\", line 319, in decode\n",
            "    def decode(self, input, final=False):\n",
            "KeyboardInterrupt\n"
          ],
          "name": "stdout"
        }
      ]
    },
    {
      "cell_type": "markdown",
      "metadata": {
        "id": "P_SSDSkAMQgb"
      },
      "source": [
        "# Model arguments"
      ]
    },
    {
      "cell_type": "code",
      "metadata": {
        "id": "5Z3pGg8yMTBG"
      },
      "source": [
        "class Args:\n",
        "  def __init__(self, input_dir = './datasets', output_dir = './output',\n",
        "               max_qst_length = 30, max_num_ans = 10,\n",
        "               embed_size = 1024, word_embed_size = 300,\n",
        "               num_layers = 2, hidden_size = 512,\n",
        "               learning_rate = 1e-3, step_size = 10, gamma = 0.1,\n",
        "               num_epochs = 30, batch_size = 128,\n",
        "               num_workers = 4, save_step = 1,\n",
        "               use_transformer = False):\n",
        "    self.input_dir = input_dir\n",
        "    self.output_dir = output_dir\n",
        "    self.max_qst_length = max_qst_length\n",
        "    self.max_num_ans = max_num_ans\n",
        "    self.embed_size = embed_size\n",
        "    self.word_embed_size = word_embed_size\n",
        "    self.num_layers = num_layers\n",
        "    self.hidden_size = hidden_size\n",
        "    self.learning_rate = learning_rate\n",
        "    self.step_size = step_size\n",
        "    self.gamma = gamma\n",
        "    self.num_epochs = num_epochs\n",
        "    self.batch_size = batch_size\n",
        "    self.num_workers = num_workers\n",
        "    self.save_step = save_step\n",
        "    self.use_transformer = use_transformer"
      ],
      "execution_count": 83,
      "outputs": []
    },
    {
      "cell_type": "code",
      "metadata": {
        "id": "vfVmNIAZMV2i"
      },
      "source": [
        "args = Args(num_epochs=1)"
      ],
      "execution_count": 84,
      "outputs": []
    },
    {
      "cell_type": "markdown",
      "metadata": {
        "id": "8OgT97VfMJUj"
      },
      "source": [
        "# Make model"
      ]
    },
    {
      "cell_type": "code",
      "metadata": {
        "colab": {
          "base_uri": "https://localhost:8080/"
        },
        "id": "aqpagEQhMOCy",
        "outputId": "25b58dbc-af7e-4e4b-9968-4432b369f703"
      },
      "source": [
        "data_loader = get_loader(\n",
        "        input_dir=args.input_dir,\n",
        "        input_vqa_train='train.npy',\n",
        "        input_vqa_valid='valid.npy',\n",
        "        max_qst_length=args.max_qst_length,\n",
        "        max_num_ans=args.max_num_ans,\n",
        "        batch_size=args.batch_size,\n",
        "        num_workers=args.num_workers)\n",
        "\n",
        "qst_vocab = data_loader['train'].dataset.qst_vocab\n",
        "ans_vocab = data_loader['train'].dataset.ans_vocab\n",
        "\n",
        "qst_vocab_size = qst_vocab.vocab_size\n",
        "ans_vocab_size = ans_vocab.vocab_size\n",
        "ans_unk_idx = data_loader['train'].dataset.ans_vocab.unk2idx\n",
        "\n",
        "model = VqaModel(\n",
        "        embed_size=args.embed_size,\n",
        "        qst_vocab_size=qst_vocab_size,\n",
        "        ans_vocab_size=ans_vocab_size,\n",
        "        word_embed_size=args.word_embed_size,\n",
        "        num_layers=args.num_layers,\n",
        "        hidden_size=args.hidden_size,\n",
        "        use_transformer=args.use_transformer).to(device)"
      ],
      "execution_count": 82,
      "outputs": [
        {
          "output_type": "stream",
          "text": [
            "/usr/local/lib/python3.7/dist-packages/torch/utils/data/dataloader.py:477: UserWarning: This DataLoader will create 4 worker processes in total. Our suggested max number of worker in current system is 2, which is smaller than what this DataLoader is going to create. Please be aware that excessive worker creation might get DataLoader running slow or even freeze, lower the worker number to avoid potential slowness/freeze if necessary.\n",
            "  cpuset_checked))\n"
          ],
          "name": "stderr"
        }
      ]
    },
    {
      "cell_type": "markdown",
      "metadata": {
        "id": "aonlRAOXXWnF"
      },
      "source": [
        "# Train a model"
      ]
    },
    {
      "cell_type": "code",
      "metadata": {
        "id": "HYqUTmHXQG2J"
      },
      "source": [
        "device = torch.device('cuda' if torch.cuda.is_available() else 'cpu')\n",
        "\n",
        "os.makedirs(args.output_dir, exist_ok=True)\n",
        "os.makedirs(args.output_dir+'/logs', exist_ok=True)\n",
        "os.makedirs(args.output_dir+'/models', exist_ok=True)\n",
        "\n",
        "criterion = nn.CrossEntropyLoss()\n",
        "\n",
        "params = list(model.img_encoder.fc.parameters()) \\\n",
        "    + list(model.qst_encoder.parameters()) \\\n",
        "    + list(model.fc1.parameters()) \\\n",
        "    + list(model.fc2.parameters())\n",
        "\n",
        "optimizer = optim.Adam(params, lr=args.learning_rate)\n",
        "scheduler = lr_scheduler.StepLR(\n",
        "    optimizer, step_size=args.step_size, gamma=args.gamma)"
      ],
      "execution_count": 85,
      "outputs": []
    },
    {
      "cell_type": "code",
      "metadata": {
        "id": "U0oMdetEGL0U",
        "colab": {
          "base_uri": "https://localhost:8080/",
          "height": 153,
          "referenced_widgets": [
            "0d07d3eb5f3345e5a17b578a84330dc2",
            "dad1e1f3f21a4f9a862da69c16be0f70",
            "88728c69034a4fab873331a057d921cd",
            "2b568106c80b4ecfb29498c3259e1b1e",
            "6655ffa775874ef195bffda564c58545",
            "e83e3f6737a144aaa146da556e5a5dff",
            "cc049f2d633946ddb45f6285e9440086",
            "137c57352f6047c589a3bf9f8609fa05",
            "19578c2bbc0a4c34832e08fd22ec11e7",
            "82f6114345fe4558912fb3aa4d1fdc10",
            "92570079d86544589a666b965064448d",
            "ed1615777f3f441eaa59b0c0d30c234c",
            "8a8e800ccda7474b9526c019a70cbe69",
            "bdf05fe752e9477584861b2ddf561c5e",
            "76720b0d714e40c3baa11ea8a849911b",
            "47cdb02af5244c458484658d1792b9e0"
          ]
        },
        "outputId": "b0474d67-f432-4bb7-f6f2-dd4de08f2b5d"
      },
      "source": [
        "for epoch in tqdm(range(args.num_epochs)):\n",
        "\n",
        "    for phase in ['train', 'valid']:\n",
        "\n",
        "        running_loss = 0.0\n",
        "        running_corr_exp1 = 0\n",
        "        running_corr_exp2 = 0\n",
        "        batch_step_size = len(data_loader[phase].dataset) / args.batch_size\n",
        "\n",
        "        if phase == 'train':\n",
        "            scheduler.step()\n",
        "            model.train()\n",
        "        else:\n",
        "            model.eval()\n",
        "        batch_idx = 0\n",
        "        for batch_sample in tqdm(data_loader[phase]):\n",
        "            image = batch_sample['image'].to(device)\n",
        "            question = batch_sample['question'].to(device)\n",
        "            label = batch_sample['answer_label'].to(device)\n",
        "            # not tensor, list.\n",
        "            multi_choice = batch_sample['answer_multi_choice']\n",
        "\n",
        "            optimizer.zero_grad()\n",
        "\n",
        "            with torch.set_grad_enabled(phase == 'train'):\n",
        "\n",
        "                # [batch_size, ans_vocab_size=1000]\n",
        "                output = model(image, question)\n",
        "                _, pred_exp1 = torch.max(output, 1)  # [batch_size]\n",
        "                _, pred_exp2 = torch.max(output, 1)  # [batch_size]\n",
        "                loss = criterion(output, label)\n",
        "\n",
        "                if phase == 'train':\n",
        "                    loss.backward()\n",
        "                    optimizer.step()\n",
        "\n",
        "            # Evaluation metric of 'multiple choice'\n",
        "            # Exp1: our model prediction to '<unk>' IS accepted as the answer.\n",
        "            # Exp2: our model prediction to '<unk>' is NOT accepted as the answer.\n",
        "            pred_exp2[pred_exp2 == ans_unk_idx] = -9999\n",
        "            running_loss += loss.item()\n",
        "            running_corr_exp1 += torch.stack([(ans == pred_exp1.cpu())\n",
        "                                              for ans in multi_choice]).any(dim=0).sum()\n",
        "            running_corr_exp2 += torch.stack([(ans == pred_exp2.cpu())\n",
        "                                              for ans in multi_choice]).any(dim=0).sum()\n",
        "\n",
        "            # Print the average loss in a mini-batch.\n",
        "            if batch_idx % 100 == 0:\n",
        "                print('| {} SET | Epoch [{:02d}/{:02d}], Step [{:04d}/{:04d}], Loss: {:.4f}'\n",
        "                      .format(phase.upper(), epoch+1, args.num_epochs, batch_idx, int(batch_step_size), loss.item()))\n",
        "            batch_idx += 1\n",
        "        break\n",
        "        # Print the average loss and accuracy in an epoch.\n",
        "        epoch_loss = running_loss / batch_step_size\n",
        "        epoch_acc_exp1 = running_corr_exp1.double(\n",
        "        ) / len(data_loader[phase].dataset)      # multiple choice\n",
        "        epoch_acc_exp2 = running_corr_exp2.double(\n",
        "        ) / len(data_loader[phase].dataset)      # multiple choice\n",
        "\n",
        "        print('| {} SET | Epoch [{:02d}/{:02d}], Loss: {:.4f}, Acc(Exp1): {:.4f}, Acc(Exp2): {:.4f} \\n'\n",
        "              .format(phase.upper(), epoch+1, args.num_epochs, epoch_loss, epoch_acc_exp1, epoch_acc_exp2))\n",
        "\n",
        "        # Log the loss and accuracy in an epoch.\n",
        "        with open(os.path.join(args.output_dir, 'logs/{}-log-epoch-{:02}.txt')\n",
        "                  .format(phase, epoch+1), 'w') as f:\n",
        "            f.write(str(epoch+1) + '\\t'\n",
        "                    + str(epoch_loss) + '\\t'\n",
        "                    + str(epoch_acc_exp1.item()) + '\\t'\n",
        "                    + str(epoch_acc_exp2.item()))\n",
        "\n",
        "    # Save the model check points.\n",
        "    if (epoch+1) % args.save_step == 0:\n",
        "        torch.save({'epoch': epoch+1, 'state_dict': model.state_dict()},\n",
        "                    os.path.join(args.output_dir, 'models/model-epoch-{:02d}.ckpt'.format(epoch+1)))\n",
        "    break"
      ],
      "execution_count": 122,
      "outputs": [
        {
          "output_type": "display_data",
          "data": {
            "application/vnd.jupyter.widget-view+json": {
              "model_id": "0d07d3eb5f3345e5a17b578a84330dc2",
              "version_minor": 0,
              "version_major": 2
            },
            "text/plain": [
              "HBox(children=(FloatProgress(value=0.0, max=1.0), HTML(value='')))"
            ]
          },
          "metadata": {
            "tags": []
          }
        },
        {
          "output_type": "display_data",
          "data": {
            "application/vnd.jupyter.widget-view+json": {
              "model_id": "19578c2bbc0a4c34832e08fd22ec11e7",
              "version_minor": 0,
              "version_major": 2
            },
            "text/plain": [
              "HBox(children=(FloatProgress(value=0.0, max=469.0), HTML(value='')))"
            ]
          },
          "metadata": {
            "tags": []
          }
        },
        {
          "output_type": "stream",
          "text": [
            "/usr/local/lib/python3.7/dist-packages/torch/utils/data/dataloader.py:477: UserWarning: This DataLoader will create 4 worker processes in total. Our suggested max number of worker in current system is 2, which is smaller than what this DataLoader is going to create. Please be aware that excessive worker creation might get DataLoader running slow or even freeze, lower the worker number to avoid potential slowness/freeze if necessary.\n",
            "  cpuset_checked))\n"
          ],
          "name": "stderr"
        },
        {
          "output_type": "stream",
          "text": [
            "10\n"
          ],
          "name": "stdout"
        }
      ]
    },
    {
      "cell_type": "markdown",
      "metadata": {
        "id": "pPndUoYWB09T"
      },
      "source": [
        "# Test a model\n",
        "\n",
        "\n"
      ]
    },
    {
      "cell_type": "markdown",
      "metadata": {
        "id": "_Bagwe0kRcDM"
      },
      "source": [
        "## Load some weights"
      ]
    },
    {
      "cell_type": "code",
      "metadata": {
        "colab": {
          "base_uri": "https://localhost:8080/"
        },
        "id": "sMPJNQA6T5ul",
        "outputId": "ae7e0fd8-2355-4055-afe4-453144d3903a"
      },
      "source": [
        "!git clone https://github.com/stran123/6.869-final-project-lfs"
      ],
      "execution_count": 104,
      "outputs": [
        {
          "output_type": "stream",
          "text": [
            "Cloning into '6.869-final-project-lfs'...\n",
            "remote: Enumerating objects: 9, done.\u001b[K\n",
            "remote: Counting objects:  11% (1/9)\u001b[K\rremote: Counting objects:  22% (2/9)\u001b[K\rremote: Counting objects:  33% (3/9)\u001b[K\rremote: Counting objects:  44% (4/9)\u001b[K\rremote: Counting objects:  55% (5/9)\u001b[K\rremote: Counting objects:  66% (6/9)\u001b[K\rremote: Counting objects:  77% (7/9)\u001b[K\rremote: Counting objects:  88% (8/9)\u001b[K\rremote: Counting objects: 100% (9/9)\u001b[K\rremote: Counting objects: 100% (9/9), done.\u001b[K\n",
            "remote: Compressing objects:  20% (1/5)\u001b[K\rremote: Compressing objects:  40% (2/5)\u001b[K\rremote: Compressing objects:  60% (3/5)\u001b[K\rremote: Compressing objects:  80% (4/5)\u001b[K\rremote: Compressing objects: 100% (5/5)\u001b[K\rremote: Compressing objects: 100% (5/5), done.\u001b[K\n",
            "remote: Total 9 (delta 1), reused 6 (delta 1), pack-reused 0\u001b[K\n",
            "Unpacking objects:  11% (1/9)   \rUnpacking objects:  22% (2/9)   \rUnpacking objects:  33% (3/9)   \rUnpacking objects:  44% (4/9)   \rUnpacking objects:  55% (5/9)   \rUnpacking objects:  66% (6/9)   \rUnpacking objects:  77% (7/9)   \rUnpacking objects:  88% (8/9)   \rUnpacking objects: 100% (9/9)   \rUnpacking objects: 100% (9/9), done.\n"
          ],
          "name": "stdout"
        }
      ]
    },
    {
      "cell_type": "code",
      "metadata": {
        "colab": {
          "base_uri": "https://localhost:8080/"
        },
        "id": "P7MAiSkzTxB1",
        "outputId": "2c1cea26-8f4e-45df-b946-51eb11c8a600"
      },
      "source": [
        "model_path = 'original-model-30.ckpt'\n",
        "model.load_state_dict(torch.load(model_path)['state_dict'])"
      ],
      "execution_count": 108,
      "outputs": [
        {
          "output_type": "execute_result",
          "data": {
            "text/plain": [
              "<All keys matched successfully>"
            ]
          },
          "metadata": {
            "tags": []
          },
          "execution_count": 108
        }
      ]
    },
    {
      "cell_type": "code",
      "metadata": {
        "colab": {
          "base_uri": "https://localhost:8080/",
          "height": 241
        },
        "id": "zrd9AiYrB0Do",
        "outputId": "5a8fc58a-97da-41b7-94bd-b3c8fb3a3dc2"
      },
      "source": [
        "from PIL import Image\n",
        "image_path = './datasets/Resized_Images/'\n",
        "img = Image.open(image_path+\"train2015/abstract_v002_train2015_000000000000.png\")"
      ],
      "execution_count": 109,
      "outputs": [
        {
          "output_type": "execute_result",
          "data": {
            "image/png": "[encoded data removed]",
            "text/plain": [
              "<PIL.PngImagePlugin.PngImageFile image mode=RGBA size=224x224 at 0x7F5C7BDB3E50>"
            ]
          },
          "metadata": {
            "tags": []
          },
          "execution_count": 109
        }
      ]
    },
    {
      "cell_type": "code",
      "metadata": {
        "colab": {
          "base_uri": "https://localhost:8080/",
          "height": 104,
          "referenced_widgets": [
            "3afccd4da40447fca6d3540ddb7f3580",
            "6912119b373c4178af219487e81bc5ab",
            "c51e823f0dba4e90bcf1d8c5f8726740",
            "416b13d44664437393b0a8df15abbc13",
            "fa588b3cf0f541b28a7bf1738177304f",
            "089e3ce088ec45f993ce907db27037cc",
            "e39777ffda2c427abde8aae4f57a0b84",
            "68a62b54ce1847e09b5d7fd5b3d7efc1"
          ]
        },
        "id": "P-OGE-SqFldW",
        "outputId": "54e9738d-4d0f-4410-9ead-83c4ec633765"
      },
      "source": [
        "import matplotlib.pyplot as plt\n",
        "import numpy as np\n",
        "\n",
        "for batch_sample in tqdm(data_loader[phase]):\n",
        "    image = batch_sample['image'].to(device)\n",
        "    question = batch_sample['question'].to(device)\n",
        "    break\n",
        "\n",
        "image = image[0].unsqueeze(0)\n",
        "question = question[0].unsqueeze(0)\n",
        "\n",
        "displayable_img = image.cpu()[0].permute(1,2,0).numpy()*3"
      ],
      "execution_count": 277,
      "outputs": [
        {
          "output_type": "display_data",
          "data": {
            "application/vnd.jupyter.widget-view+json": {
              "model_id": "3afccd4da40447fca6d3540ddb7f3580",
              "version_minor": 0,
              "version_major": 2
            },
            "text/plain": [
              "HBox(children=(FloatProgress(value=0.0, max=469.0), HTML(value='')))"
            ]
          },
          "metadata": {
            "tags": []
          }
        },
        {
          "output_type": "stream",
          "text": [
            "/usr/local/lib/python3.7/dist-packages/torch/utils/data/dataloader.py:477: UserWarning: This DataLoader will create 4 worker processes in total. Our suggested max number of worker in current system is 2, which is smaller than what this DataLoader is going to create. Please be aware that excessive worker creation might get DataLoader running slow or even freeze, lower the worker number to avoid potential slowness/freeze if necessary.\n",
            "  cpuset_checked))\n"
          ],
          "name": "stderr"
        }
      ]
    },
    {
      "cell_type": "code",
      "metadata": {
        "id": "HFBVKxUqfAMf"
      },
      "source": [
        ""
      ],
      "execution_count": 250,
      "outputs": []
    },
    {
      "cell_type": "code",
      "metadata": {
        "colab": {
          "base_uri": "https://localhost:8080/"
        },
        "id": "lcSQR10SgwIi",
        "outputId": "d93dbbac-99db-4c46-b89a-46a617eed7a1"
      },
      "source": [
        "import spacy\n",
        "tokenizer = spacy.load('en_core_web_sm')\n",
        "\n",
        "max_qst_length = 30\n",
        "\n",
        "user_question = input(\"Ask a question about this image:\\n\")\n",
        "\n",
        "parsed_user_question = [token.text for token in tokenizer(user_question.lower())]\n",
        "\n",
        "question = np.array([qst_vocab.word2idx('<pad>')] * max_qst_length)  # padded with '<pad>' in 'ans_vocab'\n",
        "question[:len(parsed_user_question)] = [qst_vocab.word2idx(w) for w in parsed_user_question]\n",
        "question = torch.tensor(question).unsqueeze(0).to(device)"
      ],
      "execution_count": 283,
      "outputs": [
        {
          "output_type": "stream",
          "text": [
            "Ask a question about this image:\n",
            "what season is it?\n"
          ],
          "name": "stdout"
        }
      ]
    },
    {
      "cell_type": "code",
      "metadata": {
        "colab": {
          "base_uri": "https://localhost:8080/",
          "height": 304
        },
        "id": "AWxk4LkXiurm",
        "outputId": "ce354488-502e-4890-b934-6a1ebc18c091"
      },
      "source": [
        "from collections import Counter\n",
        "responses = Counter()\n",
        "\n",
        "plt.imshow(displayable_img)\n",
        "print(' '.join(qst_vocab.idx2word(i) for i in question[0]))\n",
        "for i in range(100):\n",
        "  output = model(image,question)\n",
        "  _, pred_exp1 = torch.max(output, 1)  # [batch_size]\n",
        "  responses[' '.join(ans_vocab.idx2word(i) for i in pred_exp1)]+=1\n",
        "\n",
        "responses = [(k,responses[k]) for k in responses]\n",
        "sorted_responses = sorted(responses, key=lambda x: x[1])\n",
        "x = [_ for _ in range(len(responses))]\n",
        "labels, y = zip(*sorted_responses)"
      ],
      "execution_count": 284,
      "outputs": [
        {
          "output_type": "stream",
          "text": [
            "Clipping input data to the valid range for imshow with RGB data ([0..1] for floats or [0..255] for integers).\n"
          ],
          "name": "stderr"
        },
        {
          "output_type": "stream",
          "text": [
            "what season is it ? <pad> <pad> <pad> <pad> <pad> <pad> <pad> <pad> <pad> <pad> <pad> <pad> <pad> <pad> <pad> <pad> <pad> <pad> <pad> <pad> <pad> <pad> <pad> <pad> <pad>\n"
          ],
          "name": "stdout"
        },
        {
          "output_type": "display_data",
          "data": {
            "image/png": "[encoded data removed]",
            "text/plain": [
              "<Figure size 432x288 with 1 Axes>"
            ]
          },
          "metadata": {
            "tags": [],
            "needs_background": "light"
          }
        }
      ]
    },
    {
      "cell_type": "code",
      "metadata": {
        "colab": {
          "base_uri": "https://localhost:8080/",
          "height": 282
        },
        "id": "u9CqZTcUncaZ",
        "outputId": "c251d789-7ab8-4621-ad12-f1945c443231"
      },
      "source": [
        "plt.bar(x, y, tick_label=labels)"
      ],
      "execution_count": 285,
      "outputs": [
        {
          "output_type": "execute_result",
          "data": {
            "text/plain": [
              "<BarContainer object of 2 artists>"
            ]
          },
          "metadata": {
            "tags": []
          },
          "execution_count": 285
        },
        {
          "output_type": "display_data",
          "data": {
            "image/png": "[encoded data removed]",
            "text/plain": [
              "<Figure size 432x288 with 1 Axes>"
            ]
          },
          "metadata": {
            "tags": [],
            "needs_background": "light"
          }
        }
      ]
    }
  ]
}